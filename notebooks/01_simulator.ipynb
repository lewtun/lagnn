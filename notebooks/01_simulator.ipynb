{
 "cells": [
  {
   "cell_type": "markdown",
   "id": "39772e16-9a99-4b83-90b6-8c454a55c2c1",
   "metadata": {},
   "source": [
    "## Load libraries"
   ]
  },
  {
   "cell_type": "code",
   "execution_count": null,
   "id": "8e978f62-7c14-4595-b0d2-63bd4f60d5c7",
   "metadata": {},
   "outputs": [],
   "source": [
    "import numpy as np\n",
    "from scipy.integrate import odeint\n",
    "import matplotlib.pyplot as plt"
   ]
  },
  {
   "cell_type": "markdown",
   "id": "786273d1-e464-497a-a4a2-d3721c237828",
   "metadata": {},
   "source": [
    "## Example"
   ]
  },
  {
   "cell_type": "code",
   "execution_count": null,
   "id": "1b00f55f-c707-43a0-967a-d568d4c9af1b",
   "metadata": {},
   "outputs": [],
   "source": [
    "# function that returns dy/dt\n",
    "def model(y,t):\n",
    "    k = 0.3\n",
    "    dydt = -k * y\n",
    "    return dydt"
   ]
  },
  {
   "cell_type": "code",
   "execution_count": null,
   "id": "9be0804b-4b77-4775-8ef0-c266cc8360aa",
   "metadata": {},
   "outputs": [
    {
     "data": {
      "text/plain": [
       "-0.6"
      ]
     },
     "execution_count": null,
     "metadata": {},
     "output_type": "execute_result"
    }
   ],
   "source": [
    "model(2,1)"
   ]
  },
  {
   "cell_type": "code",
   "execution_count": null,
   "id": "bba4f95a-c03b-4c85-a0a5-b11b04e57f3d",
   "metadata": {},
   "outputs": [],
   "source": [
    "# initial condition\n",
    "y0 = 5\n",
    "\n",
    "# time points\n",
    "t = np.linspace(0,20,10)"
   ]
  },
  {
   "cell_type": "code",
   "execution_count": null,
   "id": "3328db61-184b-41e8-8794-3e7413b6f616",
   "metadata": {},
   "outputs": [
    {
     "data": {
      "text/plain": [
       "array([ 0., 10., 20.])"
      ]
     },
     "execution_count": null,
     "metadata": {},
     "output_type": "execute_result"
    }
   ],
   "source": [
    "t"
   ]
  },
  {
   "cell_type": "code",
   "execution_count": null,
   "id": "c25d6bd7-d5d8-4d5d-b2d5-c58aab8dcc8c",
   "metadata": {},
   "outputs": [
    {
     "data": {
      "text/plain": [
       "array([[5.        ],\n",
       "       [2.56708566],\n",
       "       [1.31798574],\n",
       "       [0.67667641],\n",
       "       [0.34741722],\n",
       "       [0.17836994],\n",
       "       [0.09157818],\n",
       "       [0.04701781],\n",
       "       [0.02413975],\n",
       "       [0.01239376]])"
      ]
     },
     "execution_count": null,
     "metadata": {},
     "output_type": "execute_result"
    }
   ],
   "source": [
    "# solve ODE\n",
    "y = odeint(model,y0,t)\n",
    "y"
   ]
  },
  {
   "cell_type": "code",
   "execution_count": null,
   "id": "39ea76d5-f472-4f1a-a551-8559d2dea952",
   "metadata": {},
   "outputs": [
    {
     "data": {
      "image/png": "[encoded data removed]",
      "text/plain": [
       "<Figure size 432x288 with 1 Axes>"
      ]
     },
     "metadata": {
      "needs_background": "light"
     },
     "output_type": "display_data"
    }
   ],
   "source": [
    "# plot results\n",
    "plt.plot(t,y)\n",
    "plt.xlabel('time')\n",
    "plt.ylabel('y(t)')\n",
    "plt.show()"
   ]
  },
  {
   "cell_type": "code",
   "execution_count": null,
   "id": "e916652c-5bab-4672-beab-cc4c2a35066a",
   "metadata": {},
   "outputs": [],
   "source": []
  }
 ],
 "metadata": {
  "kernelspec": {
   "display_name": "Python 3",
   "language": "python",
   "name": "python3"
  }
 },
 "nbformat": 4,
 "nbformat_minor": 5
}
